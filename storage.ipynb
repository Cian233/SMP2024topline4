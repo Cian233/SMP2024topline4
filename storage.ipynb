{
 "cells": [
  {
   "cell_type": "code",
   "execution_count": 1,
   "metadata": {},
   "outputs": [],
   "source": [
    "import chromadb\n",
    "from llama_index.core import VectorStoreIndex, SimpleDirectoryReader\n",
    "from llama_index.vector_stores.chroma import ChromaVectorStore\n",
    "from llama_index.core import StorageContext\n",
    "from llama_index.core.node_parser import JSONNodeParser\n",
    "from tools import *\n",
    "Settings.llm = get_llm()\n",
    "Settings.embed_model=get_embed()\n"
   ]
  },
  {
   "cell_type": "code",
   "execution_count": null,
   "metadata": {},
   "outputs": [],
   "source": [
    "\n",
    "# 加载一些文档\n",
    "documents = SimpleDirectoryReader(\"./question/GraphPro_dataset/GraphPro-master/doc datasets\").load_data()\n",
    "\n",
    "# 初始化客户端，设置保存数据的路径\n",
    "db = chromadb.PersistentClient(path=\"./knowledge_base/vector_base\")\n",
    "\n",
    "# 创建 collection\n",
    "chroma_collection = db.get_or_create_collection(\"graph_func_doc\")\n",
    "\n",
    "# 将 chroma 分配为上下文中的 vector_store\n",
    "vector_store = ChromaVectorStore(chroma_collection=chroma_collection)\n",
    "storage_context = StorageContext.from_defaults(vector_store=vector_store)\n",
    "\n",
    "# 创建你的索引\n",
    "index = VectorStoreIndex.from_documents(\n",
    "    documents, storage_context=storage_context\n",
    ")\n",
    "\n",
    "# 创建查询引擎并查询\n",
    "query_engine = index.as_query_engine()\n",
    "response = query_engine.query(\"Infomap\")\n",
    "print(response)\n"
   ]
  }
 ],
 "metadata": {
  "kernelspec": {
   "display_name": "SMPllama",
   "language": "python",
   "name": "python3"
  },
  "language_info": {
   "codemirror_mode": {
    "name": "ipython",
    "version": 3
   },
   "file_extension": ".py",
   "mimetype": "text/x-python",
   "name": "python",
   "nbconvert_exporter": "python",
   "pygments_lexer": "ipython3",
   "version": "3.10.14"
  }
 },
 "nbformat": 4,
 "nbformat_minor": 2
}

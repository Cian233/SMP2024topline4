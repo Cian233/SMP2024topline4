{
 "cells": [
  {
   "cell_type": "code",
   "execution_count": 1,
   "metadata": {},
   "outputs": [],
   "source": [
    "import pandas as pd\n",
    "import json\n",
    "from langchain_openai import ChatOpenAI\n",
    "import asyncio\n",
    "import nest_asyncio\n",
    "from config import *\n",
    "def get_question(question_path):\n",
    "    try:\n",
    "        df = pd.read_json(question_path)\n",
    "        return df\n",
    "    except FileNotFoundError:\n",
    "        print(f\"Error: The file {question_path} was not found.\")\n",
    "        return pd.DataFrame()  # 返回空 DataFrame\n",
    "    except pd.errors.EmptyDataError:\n",
    "        print(\"Error: The file is empty.\")\n",
    "        return pd.DataFrame()\n"
   ]
  },
  {
   "cell_type": "code",
   "execution_count": 2,
   "metadata": {},
   "outputs": [],
   "source": [
    "llm = ChatOpenAI(\n",
    "    api_key=OPENAI_API_KEY,\n",
    "    base_url=OPENAI_BASE_URL,\n",
    "    model='gpt-4o-2024-08-06',\n",
    "    temperature=0,\n",
    "    #model='o1-mini'\n",
    ")\n"
   ]
  },
  {
   "cell_type": "code",
   "execution_count": 4,
   "metadata": {},
   "outputs": [],
   "source": [
    "q3=get_question(r'耗材\\耗材1\\Final_Example.json')\n",
    "q2=get_question(r'耗材\\耗材2\\Final_Example.json')\n",
    "q1=get_question(r'耗材\\耗材3\\Final_Example.json')\n",
    "tmp_num=0\n",
    "async def process_question(index, row, semaphore):\n",
    "    async with semaphore:\n",
    "        if index>=tmp_num and index<=256:\n",
    "            # 获取 'answer' 字段的值\n",
    "            answer_q1 = q1.iloc[index]['answer']\n",
    "            code_q1=q1.iloc[index]['code']\n",
    "            answer_q2 = q2.iloc[index]['answer']\n",
    "            code_q2=q2.iloc[index]['code']\n",
    "            answer_q3 = q3.iloc[index]['answer']\n",
    "            code_q3=q3.iloc[index]['code']\n",
    "            question=q2.iloc[index]['question']\n",
    "            is_verify1=q1.iloc[index]['is_verify']\n",
    "            is_verify2=q2.iloc[index]['is_verify']\n",
    "            is_verify3=q3.iloc[index]['is_verify']\n",
    "            # 如果 answer_q1 或 answer_q2 是列表或字典，先将其转换为字符串\n",
    "            if isinstance(answer_q1, (dict, list)):\n",
    "                answer_q1 = str(answer_q1)\n",
    "            if isinstance(answer_q2, (dict, list)):\n",
    "                answer_q2 = str(answer_q2)\n",
    "            if isinstance(answer_q3, (dict, list)):\n",
    "                answer_q3 = str(answer_q3)\n",
    "            res=await llm.ainvoke(f\"\"\"\n",
    "            你是一个图论专家，精通精通基础图论、图统计学习和图嵌入三个方面的知识\n",
    "            你现在需要根据问题帮我在答案1和答案2答案3之间选出更正确的选项\n",
    "            需要少数服从多数，即当有两个答案比较相似时则在这两个之间选出更正确的异相\n",
    "            问题:{question}\n",
    "            答案1:{answer_q1}\n",
    "            答案1代码:{code_q1}\n",
    "            答案2:{answer_q2}\n",
    "            答案2代码:{code_q2}\n",
    "            答案3:{answer_q3}\n",
    "            答案3代码:{code_q3}\n",
    "            你必须只能输出1或者2或者3来选择问题1或者问题2或者问题3\n",
    "    \"\"\")\n",
    "            res=res.content\n",
    "            id=q2.iloc[index]['ID']\n",
    "            print(f'问题{id}的答案是{res}')\n",
    "            if '1' in res:\n",
    "                q2.loc[index, 'answer'] = answer_q1\n",
    "                q2.loc[index, 'code']=code_q1\n",
    "                q2.loc[index,'is_verify']=is_verify1\n",
    "                tmp_str=q2.iloc[index]['answer']\n",
    "            elif '3' in res:\n",
    "                q2.loc[index, 'answer'] = answer_q3\n",
    "                q2.loc[index, 'code']=code_q3\n",
    "                q2.loc[index,'is_verify']=is_verify3\n",
    "                tmp_str=q2.iloc[index]['answer']\n",
    "            data_list = q2.to_dict(orient='records')\n",
    "            json_str = json.dumps(data_list, separators=(',', ':'),ensure_ascii=False)\n",
    "            formatted_json_str = json_str.replace('},{', '},\\n{')\n",
    "\n",
    "            with open('ans.json', 'w', encoding='utf-8') as f:\n",
    "                f.write(formatted_json_str)\n",
    "                f.close()"
   ]
  },
  {
   "cell_type": "code",
   "execution_count": 5,
   "metadata": {},
   "outputs": [],
   "source": [
    "async def main():\n",
    "    semaphore = asyncio.Semaphore(20)  # 限制最多5个任务同时运行\n",
    "    tasks = [process_question(index, row, semaphore) for index, row in q1.iterrows()]\n",
    "    await asyncio.gather(*tasks)"
   ]
  },
  {
   "cell_type": "code",
   "execution_count": null,
   "metadata": {},
   "outputs": [],
   "source": [
    "\n",
    "# 允许在已有的事件循环中再次运行事件循环\n",
    "nest_asyncio.apply()\n",
    "# 替换asyncio.run(main())为以下代码\n",
    "async def main_wrapper():\n",
    "    await main()\n",
    "\n",
    "# 获取当前的事件循环并运行\n",
    "loop = asyncio.get_event_loop()\n",
    "loop.run_until_complete(main_wrapper())"
   ]
  }
 ],
 "metadata": {
  "kernelspec": {
   "display_name": "SMP",
   "language": "python",
   "name": "python3"
  },
  "language_info": {
   "codemirror_mode": {
    "name": "ipython",
    "version": 3
   },
   "file_extension": ".py",
   "mimetype": "text/x-python",
   "name": "python",
   "nbconvert_exporter": "python",
   "pygments_lexer": "ipython3",
   "version": "3.10.14"
  }
 },
 "nbformat": 4,
 "nbformat_minor": 2
}

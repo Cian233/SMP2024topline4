{
 "cells": [
  {
   "cell_type": "code",
   "execution_count": 1,
   "metadata": {},
   "outputs": [],
   "source": [
    "from agents import State,CustomAgent\n",
    "import asyncio\n",
    "import nest_asyncio\n",
    "import json\n",
    "from tools import *"
   ]
  },
  {
   "cell_type": "code",
   "execution_count": 2,
   "metadata": {},
   "outputs": [],
   "source": [
    "questions=get_question()"
   ]
  },
  {
   "cell_type": "code",
   "execution_count": 3,
   "metadata": {},
   "outputs": [],
   "source": [
    "async def process_question(index, row, semaphore):\n",
    "    async with semaphore:\n",
    "        try:\n",
    "            if row['answer'] == '' and int(row['ID'])<=256 and int(row['ID'])>0:\n",
    "                question = row['question']\n",
    "                qes_type = row['problem_type']\n",
    "                print(f\"处理 id 为 {row['ID']} 问题类型为 {row['problem_type']} 的问题：{question}\")\n",
    "                state=State(\n",
    "                    message=[],\n",
    "                    question=question,\n",
    "                    question_type=qes_type,\n",
    "                    o1_count=0,\n",
    "                    doc='',\n",
    "                    code_ans='',\n",
    "                    code='',\n",
    "                    doc_keywords='',\n",
    "                    point=0,\n",
    "                    reflect_reason='',\n",
    "                    is_verify=False,\n",
    "                    verbose=False\n",
    "                    )\n",
    "                agent=CustomAgent(state)\n",
    "                state=await agent.arun()\n",
    "            if questions.iloc[index]['answer'] == '' and int(row['ID'])<=256 and int(row['ID'])>0:\n",
    "                answer=state['answer']\n",
    "                code=state['code']\n",
    "                is_verify=state['is_verify']\n",
    "                questions.loc[index, 'answer'] = str(answer)\n",
    "                questions.loc[index, 'code'] = str(code)\n",
    "                questions.loc[index, 'is_verify'] = str(is_verify)\n",
    "                print(f\"处理 id 为 {row['ID']} 的代码：{code}\")\n",
    "                print(f\"处理 id 为 {row['ID']} 的答案：{answer}\")\n",
    "                data_list = questions.to_dict(orient='records')\n",
    "                json_str = json.dumps(data_list, separators=(',', ':'),ensure_ascii=False)\n",
    "                formatted_json_str = json_str.replace('},{', '},\\n{')\n",
    "\n",
    "                with open('answer/Final_Example.json', 'w', encoding='utf-8') as f:\n",
    "                    f.write(formatted_json_str)\n",
    "                    f.close()\n",
    "        except Exception as e:\n",
    "            print(f\"处理 id 为 {row['ID']} 的问题时出现错误：{e}\")"
   ]
  },
  {
   "cell_type": "code",
   "execution_count": 4,
   "metadata": {},
   "outputs": [],
   "source": [
    "async def main():\n",
    "    semaphore = asyncio.Semaphore(20)  # 限制最多5个任务同时运行\n",
    "    tasks = [process_question(index, row, semaphore) for index, row in questions.iterrows()]\n",
    "    await asyncio.gather(*tasks)"
   ]
  },
  {
   "cell_type": "code",
   "execution_count": null,
   "metadata": {},
   "outputs": [],
   "source": [
    "\n",
    "# 允许在已有的事件循环中再次运行事件循环\n",
    "nest_asyncio.apply()\n",
    "# 替换asyncio.run(main())为以下代码\n",
    "async def main_wrapper():\n",
    "    await main()\n",
    "\n",
    "# 获取当前的事件循环并运行\n",
    "loop = asyncio.get_event_loop()\n",
    "loop.run_until_complete(main_wrapper())"
   ]
  }
 ],
 "metadata": {
  "kernelspec": {
   "display_name": "SMPllama",
   "language": "python",
   "name": "python3"
  },
  "language_info": {
   "codemirror_mode": {
    "name": "ipython",
    "version": 3
   },
   "file_extension": ".py",
   "mimetype": "text/x-python",
   "name": "python",
   "nbconvert_exporter": "python",
   "pygments_lexer": "ipython3",
   "version": "3.10.14"
  }
 },
 "nbformat": 4,
 "nbformat_minor": 2
}
